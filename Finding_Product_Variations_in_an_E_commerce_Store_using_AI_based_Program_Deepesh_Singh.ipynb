{
  "nbformat": 4,
  "nbformat_minor": 0,
  "metadata": {
    "colab": {
      "provenance": []
    },
    "kernelspec": {
      "name": "python3",
      "display_name": "Python 3"
    },
    "language_info": {
      "name": "python"
    }
  },
  "cells": [
    {
      "cell_type": "markdown",
      "source": [
        "## **Help shoppers find product variations**"
      ],
      "metadata": {
        "id": "DJyBmVIwGvxT"
      }
    },
    {
      "cell_type": "markdown",
      "source": [
        "**Problem Statement:**"
      ],
      "metadata": {
        "id": "TekHunacHA4u"
      }
    },
    {
      "cell_type": "markdown",
      "source": [
        "When you go shopping, you may have noticed that some of the products are available in different “variations” of colors, prints, sizes, etc. \n",
        "\n",
        "You have to use your AI skills to write a program that will find variations of the same product in a given e-commerce store. Write a function named `FindAllGroups()` that takes store_domain as the parameter and returns links of products that are variations of each other in an array. There will be many product variation arrays in a store, so return all of them in a JSON."
      ],
      "metadata": {
        "id": "mfVK96gqHFyG"
      }
    },
    {
      "cell_type": "markdown",
      "source": [
        "**Introduction:**"
      ],
      "metadata": {
        "id": "FbKWl4O_LO-b"
      }
    },
    {
      "cell_type": "markdown",
      "source": [
        "As online shopping continues to grow in popularity, more and more e-commerce stores are offering a wide range of products with different variations such as colors, sizes, prints, and more. While this can be a great way for customers to find products that match their preferences, it can also be challenging for online retailers to manage and organize their product catalogs effectively.\n",
        "\n",
        "To address this challenge, we can use artificial intelligence and machine learning techniques to identify and group product variations in an automated and efficient way. By automating this process, we can help shoppers find the products they need more easily, and online retailers can manage their product catalogs more effectively."
      ],
      "metadata": {
        "id": "7HINW9UHLTH3"
      }
    },
    {
      "cell_type": "markdown",
      "source": [
        "To find variations of the same product in an e-commerce store, we need to analyze the product pages and identify the common characteristics that define a product variation. These characteristics can include things like color, size, material, etc.\n",
        "\n",
        "Here's one way we can approach the problem:\n",
        "\n",
        "1. Retrieve all the product pages from the given store domain.\n",
        "\n",
        "2. Parse each product page and extract the relevant product information such as name, image, description, price, and variation attributes.\n",
        "\n",
        "3. Identify the variation attributes for each product and group them based on these attributes. For example, if we have three products with the same name and brand, but different colors (red, blue, and green), we can group them together as variations of the same product.\n",
        "\n",
        "4. Return the product variation groups as a JSON array."
      ],
      "metadata": {
        "id": "kbw6ATZ8Ljdq"
      }
    },
    {
      "cell_type": "markdown",
      "source": [
        "**Importing Necessary Libraries:**"
      ],
      "metadata": {
        "id": "NpQShrSyN31d"
      }
    },
    {
      "cell_type": "code",
      "execution_count": 1,
      "metadata": {
        "id": "8AQHXQyhHI5T"
      },
      "outputs": [],
      "source": [
        "import requests\n",
        "from bs4 import BeautifulSoup\n",
        "import difflib\n",
        "import json"
      ]
    },
    {
      "cell_type": "code",
      "source": [
        "def FindAllGroups(store_domain):\n",
        "\n",
        "    # Make a request to the store domain\n",
        "    response = requests.get(store_domain)\n",
        "    ## The function makes a 'GET' request to the store domain using the requests library and stores the response in a variable named response.\n",
        "\n",
        "    # Parse the HTML content using BeautifulSoup\n",
        "    soup = BeautifulSoup(response.content, 'html.parser')\n",
        "    ## The HTML content of the response is parsed using the BeautifulSoup library and stored in a variable named soup.\n",
        "\n",
        "    # Extract the links of all products on the store\n",
        "    product_links = [a['href'] for a in soup.find_all('a', href=True) if 'product' in a['href']]\n",
        "    ## The function finds all links in the HTML content that contain the word \"product\" and stores them in a list named product_links.\n",
        "\n",
        "    # Create a dictionary to store the variations of each product\n",
        "    product_variations = {}\n",
        "    ## A dictionary named product_variations is created to store the variations of each product.\n",
        "\n",
        "    # Loop through all product links\n",
        "    for i, link1 in enumerate(product_links):\n",
        "        # Skip if this product link has already been processed\n",
        "        if link1 in product_variations:\n",
        "            continue\n",
        "            ## The function loops through all the product links and checks if each link has already been processed. \n",
        "            ## If a link has already been processed, the function skips it and moves on to the next link.\n",
        "\n",
        "        # Create a list to store the variations of this product\n",
        "        variations = [link1]\n",
        "        ## A list named variations is created to store the variations of the current product. \n",
        "        ## The current product is the product that is currently being processed in the loop.\n",
        "\n",
        "\n",
        "        # Loop through all other product links\n",
        "        for j, link2 in enumerate(product_links[i+1:]):\n",
        "            # Calculate the similarity ratio between the two product names\n",
        "            name1 = soup.find('a', href=link1).text\n",
        "            name2 = soup.find('a', href=link2).text\n",
        "            similarity_ratio = difflib.SequenceMatcher(None, name1, name2).ratio()\n",
        "\n",
        "            # If the similarity ratio is greater than 0.9, consider them variations of the same product\n",
        "            if similarity_ratio > 0.9:\n",
        "                variations.append(link2)\n",
        "                ## The function loops through all the remaining product links and checks if each link is a variation of the current product. \n",
        "                ## The similarity ratio between the names of the two products is calculated using the SequenceMatcher method from the difflib library. \n",
        "                ## If the similarity ratio is greater than 0.9, the two products are considered variations of the same product, and the link to the second product is added to the variations list.\n",
        "\n",
        "        # Add the variations of this product to the dictionary\n",
        "        if len(variations) > 1:\n",
        "            product_variations[link1] = variations\n",
        "            ## If the variations list contains more than one link, the list is added to the product_variations dictionary with the current product link as the key.\n",
        "\n",
        "    # Convert the dictionary to a JSON array and return it\n",
        "    return json.dumps([{\"Product Variations\": v} for v in product_variations.values()])\n",
        "    ## The product_variations dictionary is converted to a JSON array and returned by the function."
      ],
      "metadata": {
        "id": "ppWbO33HmngI"
      },
      "execution_count": 9,
      "outputs": []
    },
    {
      "cell_type": "markdown",
      "source": [
        "The code is a function named **\"FindAllGroups()\"** that takes a single argument **\"store_domain\"**, which is a string representing the domain name of an online store. The function returns a **JSON** array that contains a list of product variations, where each variation is a dictionary with the key **\"Product Variations\"**."
      ],
      "metadata": {
        "id": "dX-uRCtKOO7m"
      }
    },
    {
      "cell_type": "code",
      "source": [
        "store_domain = \"http://boysnextdoor-apparel.co\"\n",
        "result = FindAllGroups(store_domain)\n",
        "print(result)"
      ],
      "metadata": {
        "colab": {
          "base_uri": "https://localhost:8080/"
        },
        "id": "1R13ilClsA_D",
        "outputId": "ba02def8-3751-4a33-da06-18337b3f77cd"
      },
      "execution_count": 10,
      "outputs": [
        {
          "output_type": "stream",
          "name": "stdout",
          "text": [
            "[{\"Product Variations\": [\"https://www.boysnextdoor-apparel.co/products/keen-womens-zerraport-ii-sandal-olive\", \"https://www.boysnextdoor-apparel.co/products/keen-womens-zerraport-ii-sandal-olive\"]}]\n"
          ]
        }
      ]
    },
    {
      "cell_type": "markdown",
      "source": [
        "This will return a JSON array of all product variation groups in the given store domain. Each group will contain an array of products that are variations of each other, along with their name, image, description, price, and link."
      ],
      "metadata": {
        "id": "11kk-bALO_rA"
      }
    },
    {
      "cell_type": "markdown",
      "source": [
        "**Few other examples:**"
      ],
      "metadata": {
        "id": "HM_5Ao8TPHCK"
      }
    },
    {
      "cell_type": "code",
      "source": [
        "store_domain = \"https://www.woolsboutiqueuomo.com/collections/all\"\n",
        "result = FindAllGroups(store_domain)\n",
        "print(result)"
      ],
      "metadata": {
        "colab": {
          "base_uri": "https://localhost:8080/"
        },
        "id": "TZS2pQBUmoXZ",
        "outputId": "0daa1d90-3e3e-4319-bb29-9884749188a1"
      },
      "execution_count": 3,
      "outputs": [
        {
          "output_type": "stream",
          "name": "stdout",
          "text": [
            "[{\"product variations\": [\"/products/cashmere-shrug-stole-shawl-multicolor\", \"/products/handamde-cashmere-scarf-19andreas47\", \"/products/amelie-flowers-cashmere-scarf\", \"/products/caramel-palm-cashmere-scarf-19andreas47\", \"/products/caruso-brownish-green-wool-solaro-suit\", \"/products/caruso-doublebreasted-blazer-spring\", \"/products/caruso-mens-wool-jacket-springsummer\", \"/products/brown-marling-evans-wool-glen-check-blazer\", \"/products/indigo-blue-linen-jacket-caruso\", \"/products/loden-green-linen-wool-jacket-caruso\", \"/products/caruso-menswear-smoking-tuxedo-dark-blue\", \"/products/wool-solaro-suit-caruso-menswear\", \"/products/caruso-menswear-suit-spring-summer-blu\", \"/products/caruso-wool-suit-autumn-winter\", \"/products/smoke-grey-suit-merino-wool-loro-piana\", \"/products/caruso-wool-jacket-double-breasted-blue\", \"/products/caruso-menswear-wool-jacket-blu\", \"/products/army-green-cotton-crewneck-sweater\", \"/products/cruciani-mens-cashmere-sweater-blue\", \"/products/brown-wool-crewneck-sweater-cruciani\", \"/products/cruciani-linen-sailor-tshirt-marinara\", \"/products/cruciani-wool-cardigan-blue\", \"/products/army-green-crewneck-jumper-cashmere-silk-cruciani\", \"/products/cruciani-sweater-cashmere-silk-grey\"]}, {\"product variations\": [\"/collections/all/products/cashmere-shrug-stole-shawl-multicolor\", \"/collections/all/products/handamde-cashmere-scarf-19andreas47\"]}, {\"product variations\": [\"/products/handamde-cashmere-scarf-19andreas47\", \"/products/amelie-flowers-cashmere-scarf\", \"/products/caramel-palm-cashmere-scarf-19andreas47\", \"/products/caruso-brownish-green-wool-solaro-suit\", \"/products/caruso-doublebreasted-blazer-spring\", \"/products/caruso-mens-wool-jacket-springsummer\", \"/products/brown-marling-evans-wool-glen-check-blazer\", \"/products/indigo-blue-linen-jacket-caruso\", \"/products/loden-green-linen-wool-jacket-caruso\", \"/products/caruso-menswear-smoking-tuxedo-dark-blue\", \"/products/wool-solaro-suit-caruso-menswear\", \"/products/caruso-menswear-suit-spring-summer-blu\", \"/products/caruso-wool-suit-autumn-winter\", \"/products/smoke-grey-suit-merino-wool-loro-piana\", \"/products/caruso-wool-jacket-double-breasted-blue\", \"/products/caruso-menswear-wool-jacket-blu\", \"/products/army-green-cotton-crewneck-sweater\", \"/products/cruciani-mens-cashmere-sweater-blue\", \"/products/brown-wool-crewneck-sweater-cruciani\", \"/products/cruciani-linen-sailor-tshirt-marinara\", \"/products/cruciani-wool-cardigan-blue\", \"/products/army-green-crewneck-jumper-cashmere-silk-cruciani\", \"/products/cruciani-sweater-cashmere-silk-grey\"]}, {\"product variations\": [\"/products/amelie-flowers-cashmere-scarf\", \"/products/caramel-palm-cashmere-scarf-19andreas47\", \"/products/caruso-brownish-green-wool-solaro-suit\", \"/products/caruso-doublebreasted-blazer-spring\", \"/products/caruso-mens-wool-jacket-springsummer\", \"/products/brown-marling-evans-wool-glen-check-blazer\", \"/products/indigo-blue-linen-jacket-caruso\", \"/products/loden-green-linen-wool-jacket-caruso\", \"/products/caruso-menswear-smoking-tuxedo-dark-blue\", \"/products/wool-solaro-suit-caruso-menswear\", \"/products/caruso-menswear-suit-spring-summer-blu\", \"/products/caruso-wool-suit-autumn-winter\", \"/products/smoke-grey-suit-merino-wool-loro-piana\", \"/products/caruso-wool-jacket-double-breasted-blue\", \"/products/caruso-menswear-wool-jacket-blu\", \"/products/army-green-cotton-crewneck-sweater\", \"/products/cruciani-mens-cashmere-sweater-blue\", \"/products/brown-wool-crewneck-sweater-cruciani\", \"/products/cruciani-linen-sailor-tshirt-marinara\", \"/products/cruciani-wool-cardigan-blue\", \"/products/army-green-crewneck-jumper-cashmere-silk-cruciani\", \"/products/cruciani-sweater-cashmere-silk-grey\"]}, {\"product variations\": [\"/products/caramel-palm-cashmere-scarf-19andreas47\", \"/products/caruso-brownish-green-wool-solaro-suit\", \"/products/caruso-doublebreasted-blazer-spring\", \"/products/caruso-mens-wool-jacket-springsummer\", \"/products/brown-marling-evans-wool-glen-check-blazer\", \"/products/indigo-blue-linen-jacket-caruso\", \"/products/loden-green-linen-wool-jacket-caruso\", \"/products/caruso-menswear-smoking-tuxedo-dark-blue\", \"/products/wool-solaro-suit-caruso-menswear\", \"/products/caruso-menswear-suit-spring-summer-blu\", \"/products/caruso-wool-suit-autumn-winter\", \"/products/smoke-grey-suit-merino-wool-loro-piana\", \"/products/caruso-wool-jacket-double-breasted-blue\", \"/products/caruso-menswear-wool-jacket-blu\", \"/products/army-green-cotton-crewneck-sweater\", \"/products/cruciani-mens-cashmere-sweater-blue\", \"/products/brown-wool-crewneck-sweater-cruciani\", \"/products/cruciani-linen-sailor-tshirt-marinara\", \"/products/cruciani-wool-cardigan-blue\", \"/products/army-green-crewneck-jumper-cashmere-silk-cruciani\", \"/products/cruciani-sweater-cashmere-silk-grey\"]}, {\"product variations\": [\"/products/caruso-brownish-green-wool-solaro-suit\", \"/products/caruso-doublebreasted-blazer-spring\", \"/products/caruso-mens-wool-jacket-springsummer\", \"/products/brown-marling-evans-wool-glen-check-blazer\", \"/products/indigo-blue-linen-jacket-caruso\", \"/products/loden-green-linen-wool-jacket-caruso\", \"/products/caruso-menswear-smoking-tuxedo-dark-blue\", \"/products/wool-solaro-suit-caruso-menswear\", \"/products/caruso-menswear-suit-spring-summer-blu\", \"/products/caruso-wool-suit-autumn-winter\", \"/products/smoke-grey-suit-merino-wool-loro-piana\", \"/products/caruso-wool-jacket-double-breasted-blue\", \"/products/caruso-menswear-wool-jacket-blu\", \"/products/army-green-cotton-crewneck-sweater\", \"/products/cruciani-mens-cashmere-sweater-blue\", \"/products/brown-wool-crewneck-sweater-cruciani\", \"/products/cruciani-linen-sailor-tshirt-marinara\", \"/products/cruciani-wool-cardigan-blue\", \"/products/army-green-crewneck-jumper-cashmere-silk-cruciani\", \"/products/cruciani-sweater-cashmere-silk-grey\"]}, {\"product variations\": [\"/collections/all/products/caruso-brownish-green-wool-solaro-suit\", \"/collections/all/products/wool-solaro-suit-caruso-menswear\"]}, {\"product variations\": [\"/products/caruso-doublebreasted-blazer-spring\", \"/products/caruso-mens-wool-jacket-springsummer\", \"/products/brown-marling-evans-wool-glen-check-blazer\", \"/products/indigo-blue-linen-jacket-caruso\", \"/products/loden-green-linen-wool-jacket-caruso\", \"/products/caruso-menswear-smoking-tuxedo-dark-blue\", \"/products/wool-solaro-suit-caruso-menswear\", \"/products/caruso-menswear-suit-spring-summer-blu\", \"/products/caruso-wool-suit-autumn-winter\", \"/products/smoke-grey-suit-merino-wool-loro-piana\", \"/products/caruso-wool-jacket-double-breasted-blue\", \"/products/caruso-menswear-wool-jacket-blu\", \"/products/army-green-cotton-crewneck-sweater\", \"/products/cruciani-mens-cashmere-sweater-blue\", \"/products/brown-wool-crewneck-sweater-cruciani\", \"/products/cruciani-linen-sailor-tshirt-marinara\", \"/products/cruciani-wool-cardigan-blue\", \"/products/army-green-crewneck-jumper-cashmere-silk-cruciani\", \"/products/cruciani-sweater-cashmere-silk-grey\"]}, {\"product variations\": [\"/collections/all/products/caruso-doublebreasted-blazer-spring\", \"/collections/all/products/caruso-mens-wool-jacket-springsummer\"]}, {\"product variations\": [\"/products/caruso-mens-wool-jacket-springsummer\", \"/products/brown-marling-evans-wool-glen-check-blazer\", \"/products/indigo-blue-linen-jacket-caruso\", \"/products/loden-green-linen-wool-jacket-caruso\", \"/products/caruso-menswear-smoking-tuxedo-dark-blue\", \"/products/wool-solaro-suit-caruso-menswear\", \"/products/caruso-menswear-suit-spring-summer-blu\", \"/products/caruso-wool-suit-autumn-winter\", \"/products/smoke-grey-suit-merino-wool-loro-piana\", \"/products/caruso-wool-jacket-double-breasted-blue\", \"/products/caruso-menswear-wool-jacket-blu\", \"/products/army-green-cotton-crewneck-sweater\", \"/products/cruciani-mens-cashmere-sweater-blue\", \"/products/brown-wool-crewneck-sweater-cruciani\", \"/products/cruciani-linen-sailor-tshirt-marinara\", \"/products/cruciani-wool-cardigan-blue\", \"/products/army-green-crewneck-jumper-cashmere-silk-cruciani\", \"/products/cruciani-sweater-cashmere-silk-grey\"]}, {\"product variations\": [\"/products/brown-marling-evans-wool-glen-check-blazer\", \"/products/indigo-blue-linen-jacket-caruso\", \"/products/loden-green-linen-wool-jacket-caruso\", \"/products/caruso-menswear-smoking-tuxedo-dark-blue\", \"/products/wool-solaro-suit-caruso-menswear\", \"/products/caruso-menswear-suit-spring-summer-blu\", \"/products/caruso-wool-suit-autumn-winter\", \"/products/smoke-grey-suit-merino-wool-loro-piana\", \"/products/caruso-wool-jacket-double-breasted-blue\", \"/products/caruso-menswear-wool-jacket-blu\", \"/products/army-green-cotton-crewneck-sweater\", \"/products/cruciani-mens-cashmere-sweater-blue\", \"/products/brown-wool-crewneck-sweater-cruciani\", \"/products/cruciani-linen-sailor-tshirt-marinara\", \"/products/cruciani-wool-cardigan-blue\", \"/products/army-green-crewneck-jumper-cashmere-silk-cruciani\", \"/products/cruciani-sweater-cashmere-silk-grey\"]}, {\"product variations\": [\"/products/indigo-blue-linen-jacket-caruso\", \"/products/loden-green-linen-wool-jacket-caruso\", \"/products/caruso-menswear-smoking-tuxedo-dark-blue\", \"/products/wool-solaro-suit-caruso-menswear\", \"/products/caruso-menswear-suit-spring-summer-blu\", \"/products/caruso-wool-suit-autumn-winter\", \"/products/smoke-grey-suit-merino-wool-loro-piana\", \"/products/caruso-wool-jacket-double-breasted-blue\", \"/products/caruso-menswear-wool-jacket-blu\", \"/products/army-green-cotton-crewneck-sweater\", \"/products/cruciani-mens-cashmere-sweater-blue\", \"/products/brown-wool-crewneck-sweater-cruciani\", \"/products/cruciani-linen-sailor-tshirt-marinara\", \"/products/cruciani-wool-cardigan-blue\", \"/products/army-green-crewneck-jumper-cashmere-silk-cruciani\", \"/products/cruciani-sweater-cashmere-silk-grey\"]}, {\"product variations\": [\"/products/loden-green-linen-wool-jacket-caruso\", \"/products/caruso-menswear-smoking-tuxedo-dark-blue\", \"/products/wool-solaro-suit-caruso-menswear\", \"/products/caruso-menswear-suit-spring-summer-blu\", \"/products/caruso-wool-suit-autumn-winter\", \"/products/smoke-grey-suit-merino-wool-loro-piana\", \"/products/caruso-wool-jacket-double-breasted-blue\", \"/products/caruso-menswear-wool-jacket-blu\", \"/products/army-green-cotton-crewneck-sweater\", \"/products/cruciani-mens-cashmere-sweater-blue\", \"/products/brown-wool-crewneck-sweater-cruciani\", \"/products/cruciani-linen-sailor-tshirt-marinara\", \"/products/cruciani-wool-cardigan-blue\", \"/products/army-green-crewneck-jumper-cashmere-silk-cruciani\", \"/products/cruciani-sweater-cashmere-silk-grey\"]}, {\"product variations\": [\"/products/caruso-menswear-smoking-tuxedo-dark-blue\", \"/products/wool-solaro-suit-caruso-menswear\", \"/products/caruso-menswear-suit-spring-summer-blu\", \"/products/caruso-wool-suit-autumn-winter\", \"/products/smoke-grey-suit-merino-wool-loro-piana\", \"/products/caruso-wool-jacket-double-breasted-blue\", \"/products/caruso-menswear-wool-jacket-blu\", \"/products/army-green-cotton-crewneck-sweater\", \"/products/cruciani-mens-cashmere-sweater-blue\", \"/products/brown-wool-crewneck-sweater-cruciani\", \"/products/cruciani-linen-sailor-tshirt-marinara\", \"/products/cruciani-wool-cardigan-blue\", \"/products/army-green-crewneck-jumper-cashmere-silk-cruciani\", \"/products/cruciani-sweater-cashmere-silk-grey\"]}, {\"product variations\": [\"/products/wool-solaro-suit-caruso-menswear\", \"/products/caruso-menswear-suit-spring-summer-blu\", \"/products/caruso-wool-suit-autumn-winter\", \"/products/smoke-grey-suit-merino-wool-loro-piana\", \"/products/caruso-wool-jacket-double-breasted-blue\", \"/products/caruso-menswear-wool-jacket-blu\", \"/products/army-green-cotton-crewneck-sweater\", \"/products/cruciani-mens-cashmere-sweater-blue\", \"/products/brown-wool-crewneck-sweater-cruciani\", \"/products/cruciani-linen-sailor-tshirt-marinara\", \"/products/cruciani-wool-cardigan-blue\", \"/products/army-green-crewneck-jumper-cashmere-silk-cruciani\", \"/products/cruciani-sweater-cashmere-silk-grey\"]}, {\"product variations\": [\"/products/caruso-menswear-suit-spring-summer-blu\", \"/products/caruso-wool-suit-autumn-winter\", \"/products/smoke-grey-suit-merino-wool-loro-piana\", \"/products/caruso-wool-jacket-double-breasted-blue\", \"/products/caruso-menswear-wool-jacket-blu\", \"/products/army-green-cotton-crewneck-sweater\", \"/products/cruciani-mens-cashmere-sweater-blue\", \"/products/brown-wool-crewneck-sweater-cruciani\", \"/products/cruciani-linen-sailor-tshirt-marinara\", \"/products/cruciani-wool-cardigan-blue\", \"/products/army-green-crewneck-jumper-cashmere-silk-cruciani\", \"/products/cruciani-sweater-cashmere-silk-grey\"]}, {\"product variations\": [\"/products/caruso-wool-suit-autumn-winter\", \"/products/smoke-grey-suit-merino-wool-loro-piana\", \"/products/caruso-wool-jacket-double-breasted-blue\", \"/products/caruso-menswear-wool-jacket-blu\", \"/products/army-green-cotton-crewneck-sweater\", \"/products/cruciani-mens-cashmere-sweater-blue\", \"/products/brown-wool-crewneck-sweater-cruciani\", \"/products/cruciani-linen-sailor-tshirt-marinara\", \"/products/cruciani-wool-cardigan-blue\", \"/products/army-green-crewneck-jumper-cashmere-silk-cruciani\", \"/products/cruciani-sweater-cashmere-silk-grey\"]}, {\"product variations\": [\"/products/smoke-grey-suit-merino-wool-loro-piana\", \"/products/caruso-wool-jacket-double-breasted-blue\", \"/products/caruso-menswear-wool-jacket-blu\", \"/products/army-green-cotton-crewneck-sweater\", \"/products/cruciani-mens-cashmere-sweater-blue\", \"/products/brown-wool-crewneck-sweater-cruciani\", \"/products/cruciani-linen-sailor-tshirt-marinara\", \"/products/cruciani-wool-cardigan-blue\", \"/products/army-green-crewneck-jumper-cashmere-silk-cruciani\", \"/products/cruciani-sweater-cashmere-silk-grey\"]}, {\"product variations\": [\"/products/caruso-wool-jacket-double-breasted-blue\", \"/products/caruso-menswear-wool-jacket-blu\", \"/products/army-green-cotton-crewneck-sweater\", \"/products/cruciani-mens-cashmere-sweater-blue\", \"/products/brown-wool-crewneck-sweater-cruciani\", \"/products/cruciani-linen-sailor-tshirt-marinara\", \"/products/cruciani-wool-cardigan-blue\", \"/products/army-green-crewneck-jumper-cashmere-silk-cruciani\", \"/products/cruciani-sweater-cashmere-silk-grey\"]}, {\"product variations\": [\"/products/caruso-menswear-wool-jacket-blu\", \"/products/army-green-cotton-crewneck-sweater\", \"/products/cruciani-mens-cashmere-sweater-blue\", \"/products/brown-wool-crewneck-sweater-cruciani\", \"/products/cruciani-linen-sailor-tshirt-marinara\", \"/products/cruciani-wool-cardigan-blue\", \"/products/army-green-crewneck-jumper-cashmere-silk-cruciani\", \"/products/cruciani-sweater-cashmere-silk-grey\"]}, {\"product variations\": [\"/products/army-green-cotton-crewneck-sweater\", \"/products/cruciani-mens-cashmere-sweater-blue\", \"/products/brown-wool-crewneck-sweater-cruciani\", \"/products/cruciani-linen-sailor-tshirt-marinara\", \"/products/cruciani-wool-cardigan-blue\", \"/products/army-green-crewneck-jumper-cashmere-silk-cruciani\", \"/products/cruciani-sweater-cashmere-silk-grey\"]}, {\"product variations\": [\"/products/cruciani-mens-cashmere-sweater-blue\", \"/products/brown-wool-crewneck-sweater-cruciani\", \"/products/cruciani-linen-sailor-tshirt-marinara\", \"/products/cruciani-wool-cardigan-blue\", \"/products/army-green-crewneck-jumper-cashmere-silk-cruciani\", \"/products/cruciani-sweater-cashmere-silk-grey\"]}, {\"product variations\": [\"/products/brown-wool-crewneck-sweater-cruciani\", \"/products/cruciani-linen-sailor-tshirt-marinara\", \"/products/cruciani-wool-cardigan-blue\", \"/products/army-green-crewneck-jumper-cashmere-silk-cruciani\", \"/products/cruciani-sweater-cashmere-silk-grey\"]}, {\"product variations\": [\"/products/cruciani-linen-sailor-tshirt-marinara\", \"/products/cruciani-wool-cardigan-blue\", \"/products/army-green-crewneck-jumper-cashmere-silk-cruciani\", \"/products/cruciani-sweater-cashmere-silk-grey\"]}, {\"product variations\": [\"/products/cruciani-wool-cardigan-blue\", \"/products/army-green-crewneck-jumper-cashmere-silk-cruciani\", \"/products/cruciani-sweater-cashmere-silk-grey\"]}, {\"product variations\": [\"/products/army-green-crewneck-jumper-cashmere-silk-cruciani\", \"/products/cruciani-sweater-cashmere-silk-grey\"]}, {\"product variations\": [\"/collections/all/products/army-green-crewneck-jumper-cashmere-silk-cruciani\", \"/collections/all/products/cruciani-sweater-cashmere-silk-grey\"]}]\n"
          ]
        }
      ]
    },
    {
      "cell_type": "code",
      "source": [
        "store_domain = \"https://sartale2022.myshopify.com/collections/all\"\n",
        "result = FindAllGroups(store_domain)\n",
        "print(result)"
      ],
      "metadata": {
        "colab": {
          "base_uri": "https://localhost:8080/"
        },
        "id": "BnDl_5MqFBVz",
        "outputId": "2aafb26a-c5cb-41c9-e527-958f9eb1837e"
      },
      "execution_count": 6,
      "outputs": [
        {
          "output_type": "stream",
          "name": "stdout",
          "text": [
            "[{\"product variations\": [\"/products/adam-suede-penny-loafer-in-light-brown\", \"/products/adam-suede-penny-loafer-in-light-brown\", \"/products/adam-suede-penny-loafer-in-olive-green\", \"/products/adam-suede-penny-loafer-in-olive-green\"]}, {\"product variations\": [\"/products/adam-suede-penny-loafer-in-navy-blue\", \"/products/adam-suede-penny-loafer-in-navy-blue\", \"/products/adam-suede-penny-loafer-in-olive-green\", \"/products/adam-suede-penny-loafer-in-olive-green\"]}, {\"product variations\": [\"/products/adam-suede-penny-loafer-in-olive-green\", \"/products/adam-suede-penny-loafer-in-olive-green\"]}, {\"product variations\": [\"/products/alder-suede-derby-boot-with-lightweight-walking-sole-in-brown\", \"/products/alder-suede-derby-boot-with-lightweight-walking-sole-in-brown\"]}, {\"product variations\": [\"/products/aley-suede-loafer-with-hand-stitched-apron-in-brick-red\", \"/products/aley-suede-loafer-with-hand-stitched-apron-in-brick-red\", \"/products/aley-suede-loafer-with-hand-stitched-apron-in-brown-1\", \"/products/aley-suede-loafer-with-hand-stitched-apron-in-brown-1\", \"/products/aley-suede-loafer-with-hand-stitched-apron-in-brown\", \"/products/aley-suede-loafer-with-hand-stitched-apron-in-brown\", \"/products/aley-suede-loafer-with-hand-stitched-apron-in-royal-blue\", \"/products/aley-suede-loafer-with-hand-stitched-apron-in-royal-blue\"]}, {\"product variations\": [\"/products/aley-suede-loafer-with-hand-stitched-apron-in-brown-1\", \"/products/aley-suede-loafer-with-hand-stitched-apron-in-brown-1\", \"/products/aley-suede-loafer-with-hand-stitched-apron-in-brown\", \"/products/aley-suede-loafer-with-hand-stitched-apron-in-brown\", \"/products/aley-suede-loafer-with-hand-stitched-apron-in-royal-blue\", \"/products/aley-suede-loafer-with-hand-stitched-apron-in-royal-blue\"]}, {\"product variations\": [\"/products/aley-suede-loafer-with-hand-stitched-apron-in-brown\", \"/products/aley-suede-loafer-with-hand-stitched-apron-in-brown\", \"/products/aley-suede-loafer-with-hand-stitched-apron-in-royal-blue\", \"/products/aley-suede-loafer-with-hand-stitched-apron-in-royal-blue\"]}, {\"product variations\": [\"/products/aley-suede-loafer-with-hand-stitched-apron-in-royal-blue\", \"/products/aley-suede-loafer-with-hand-stitched-apron-in-royal-blue\"]}, {\"product variations\": [\"/products/all-day-long-collection-bengal-stripe-cotton-blue-shirt-with-cutaway-collar\", \"/products/all-day-long-collection-bengal-stripe-cotton-blue-shirt-with-cutaway-collar\", \"/products/all-day-long-collection-bengal-stripe-cotton-light-blue-shirt-with-cutaway-collar\", \"/products/all-day-long-collection-bengal-stripe-cotton-light-blue-shirt-with-cutaway-collar\", \"/products/all-day-long-collection-bengal-stripe-cotton-light-blue-shirt-with-shark-collar\", \"/products/all-day-long-collection-bengal-stripe-cotton-light-blue-shirt-with-shark-collar\"]}, {\"product variations\": [\"/products/all-day-long-collection-bengal-stripe-cotton-light-blue-shirt-with-cutaway-collar\", \"/products/all-day-long-collection-bengal-stripe-cotton-light-blue-shirt-with-cutaway-collar\", \"/products/all-day-long-collection-bengal-stripe-cotton-light-blue-shirt-with-shark-collar\", \"/products/all-day-long-collection-bengal-stripe-cotton-light-blue-shirt-with-shark-collar\"]}, {\"product variations\": [\"/products/all-day-long-collection-bengal-stripe-cotton-light-blue-shirt-with-shark-collar\", \"/products/all-day-long-collection-bengal-stripe-cotton-light-blue-shirt-with-shark-collar\"]}, {\"product variations\": [\"/products/all-day-long-collection-checked-cotton-blue-shirt-with-shark-collar\", \"/products/all-day-long-collection-checked-cotton-blue-shirt-with-shark-collar\"]}, {\"product variations\": [\"/products/all-day-long-collectionchecked-cotton-shirt\", \"/products/all-day-long-collectionchecked-cotton-shirt\", \"/products/all-day-long-collectionclassic-cotton-shirt\", \"/products/all-day-long-collectionclassic-cotton-shirt\"]}, {\"product variations\": [\"/products/all-day-long-collectionclassic-cotton-shirt-1\", \"/products/all-day-long-collectionclassic-cotton-shirt-1\", \"/products/all-day-long-collectionclassic-cotton-shirt\", \"/products/all-day-long-collectionclassic-cotton-shirt\", \"/products/all-day-long-collectioncotton-shirt-1\", \"/products/all-day-long-collectioncotton-shirt-1\"]}, {\"product variations\": [\"/products/all-day-long-collectionclassic-cotton-shirt\", \"/products/all-day-long-collectionclassic-cotton-shirt\"]}, {\"product variations\": [\"/products/all-day-long-collectioncotton-shirt-1\", \"/products/all-day-long-collectioncotton-shirt-1\"]}]\n"
          ]
        }
      ]
    }
  ]
}